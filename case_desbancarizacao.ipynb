{
  "nbformat": 4,
  "nbformat_minor": 0,
  "metadata": {
    "colab": {
      "name": "case_desbancarizacao.ipynb",
      "provenance": [],
      "collapsed_sections": [],
      "authorship_tag": "ABX9TyNXVt6VOZYsY2v3Trknq40R"
    },
    "kernelspec": {
      "name": "python3",
      "display_name": "Python 3"
    },
    "language_info": {
      "name": "python"
    }
  },
  "cells": [
    {
      "cell_type": "code",
      "metadata": {
        "id": "8M1X6lqcPavX",
        "colab": {
          "base_uri": "https://localhost:8080/"
        },
        "outputId": "a7cacdd7-d5ed-4739-a601-4bba3a2f7977"
      },
      "source": [
        "# Instala/atualiza bibliotecas que podem não estar instaladas\n",
        "!pip install bs4\n",
        "!pip install unidecode\n",
        "!pip install --upgrade pandas\n",
        "!pip install --upgrade openpyxl"
      ],
      "execution_count": 865,
      "outputs": [
        {
          "output_type": "stream",
          "text": [
            "Requirement already satisfied: bs4 in /usr/local/lib/python3.7/dist-packages (0.0.1)\n",
            "Requirement already satisfied: beautifulsoup4 in /usr/local/lib/python3.7/dist-packages (from bs4) (4.6.3)\n",
            "Requirement already satisfied: unidecode in /usr/local/lib/python3.7/dist-packages (1.2.0)\n",
            "Requirement already satisfied: pandas in /usr/local/lib/python3.7/dist-packages (1.3.1)\n",
            "Requirement already satisfied: python-dateutil>=2.7.3 in /usr/local/lib/python3.7/dist-packages (from pandas) (2.8.1)\n",
            "Requirement already satisfied: numpy>=1.17.3 in /usr/local/lib/python3.7/dist-packages (from pandas) (1.19.5)\n",
            "Requirement already satisfied: pytz>=2017.3 in /usr/local/lib/python3.7/dist-packages (from pandas) (2018.9)\n",
            "Requirement already satisfied: six>=1.5 in /usr/local/lib/python3.7/dist-packages (from python-dateutil>=2.7.3->pandas) (1.15.0)\n",
            "Requirement already satisfied: openpyxl in /usr/local/lib/python3.7/dist-packages (3.0.7)\n",
            "Requirement already satisfied: et-xmlfile in /usr/local/lib/python3.7/dist-packages (from openpyxl) (1.1.0)\n"
          ],
          "name": "stdout"
        }
      ]
    },
    {
      "cell_type": "code",
      "metadata": {
        "id": "DdVfyPdAtnA6"
      },
      "source": [
        "# Importa as bibliotecas necessárias para excução do código\n",
        "from bs4 import BeautifulSoup\n",
        "from unidecode import unidecode\n",
        "import requests\n",
        "import pandas as pd\n",
        "import numpy as np\n",
        "import re\n",
        "import os\n",
        "from functools import reduce\n",
        "from math import floor"
      ],
      "execution_count": 866,
      "outputs": []
    },
    {
      "cell_type": "code",
      "metadata": {
        "id": "MgmNvMBHtqe4"
      },
      "source": [
        "# Declaração das variáveis contendo as URL a ser acessadas para a extração dos dados\n",
        "URL_MUNICIPIOS = \"https://pt.wikipedia.org/wiki/Lista_de_municípios_do_Brasil_por_população_(2020)\"\n",
        "URL_IDHM = \"https://www.br.undp.org/content/brazil/pt/home/idh0/rankings/idhm-municipios-2010.html\"\n",
        "URL_CELULARES = \"https://www.teleco.com.br/nceluf.asp\"\n",
        "URL_AGENCIAS = \"https://drive.google.com/u/0/uc?id=1ETK0_pv1VoBGSBQDCxI-DOLRF8eJ-JQT&export=download\"\n",
        "URL_ATENDIMENTO = \"https://drive.google.com/u/0/uc?id=1DIq8-iT_rNiQ4QhIyy4ZreRxAM9temNC&export=download\"\n",
        "URL_ATENDIMENTO_ELETRONICO = \"https://drive.google.com/u/0/uc?id=1357U7jrFv20rTPhGDnsbYDvZIgE01CCU&export=download\"\n",
        "\n",
        "# Acesso às páginas URL descritas anteriormente e salvamento de seus conteúdos em novas variáveis\n",
        "html_municipios = requests.get(URL_MUNICIPIOS).text\n",
        "html_idhm = requests.get(URL_IDHM).text\n",
        "html_celulares = requests.get(URL_CELULARES).text\n",
        "\n",
        "# Criação de objetos soup com os conteúdos HTML, ficando mais fácil para manipular\n",
        "soup_municipios = BeautifulSoup(html_municipios, \"html.parser\")\n",
        "soup_idhm = BeautifulSoup(html_idhm, \"html.parser\")\n",
        "soup_celulares = BeautifulSoup(html_celulares, \"html.parser\")"
      ],
      "execution_count": 867,
      "outputs": []
    },
    {
      "cell_type": "code",
      "metadata": {
        "id": "JYCutlxAtr_p"
      },
      "source": [
        "# Procura, em cada objeto soup, por tabelas (tag <table/>)\n",
        "# Como elas são identificadas por suas classes, isso se torna um filtro na busca\n",
        "lista_tabelas_municipios = soup_municipios.find_all(\"table\", {\"class\": \"wikitable\"})\n",
        "lista_tabelas_idhm = soup_idhm.find_all(\"table\", {\"class\": \"tableizer-table\"})\n",
        "lista_tabelas_celulares = soup_celulares.find_all(\"table\")\n",
        "\n",
        "# Quantidade de tabelas encontradas em cada site\n",
        "# print(f\"Número de tabelas em {URL_MUNICIPIOS}: {len(lista_tabelas_municipios)}\")\n",
        "# print(f\"Número de tabelas em {URL_IDHM}: {len(lista_tabelas_idhm)}\")\n",
        "# print(f\"Número de tabelas em {URL_CELULARES}: {len(lista_tabelas_celulares)}\")\n",
        "# Nota-se que no url URL_CELULARES foram encontradas 8 tabelas por elas não terem classes para filtro, diferentemente dos outros dois sites que encontraram apenas 1"
      ],
      "execution_count": 868,
      "outputs": []
    },
    {
      "cell_type": "code",
      "metadata": {
        "id": "-nEOn6NCwYxq"
      },
      "source": [
        "# Salva a tabela em uma variável, para usá-la fora da lista\n",
        "tabela_municipios = lista_tabelas_municipios[0]\n",
        "\n",
        "# Procura todas as linhas\n",
        "body_municipios = tabela_municipios.find_all(\"tr\")\n",
        "\n",
        "# Salva o cabeçalho em uma variável\n",
        "headings_municipios = body_municipios[0]\n",
        "\n",
        "# Salva o resto das linhas em outra variável\n",
        "rows_municipios = body_municipios[1:]\n",
        "\n",
        "# Cria lista para salvar os nomes de colunas de municipios\n",
        "headings_municipios_final = list()\n",
        "\n",
        "# Faz um loop pelas tags <th/> de cabeçalho para salvá-los na lista anterior\n",
        "for item in headings_municipios.find_all(\"th\"):\n",
        "\n",
        "  # Retira as quebras de linha e salva na lista\n",
        "  item = (item.text).rstrip(\"\\n\")\n",
        "  headings_municipios_final.append(item)"
      ],
      "execution_count": 869,
      "outputs": []
    },
    {
      "cell_type": "code",
      "metadata": {
        "id": "HkCYjnAd55lD"
      },
      "source": [
        "# Cria lista para salvar as entradas de municípios\n",
        "rows_municipios_final = list()\n",
        "\n",
        "# Faz um loop para percorrer cada linha\n",
        "for row_atual_indice in range(len(rows_municipios)):\n",
        "\n",
        "  # Cria lista para salvar as células da linha atual (é zerada a cada passo do loop)\n",
        "  row_municipios_atual = list()\n",
        "\n",
        "  # Faz novo loop para percorrer cada célula com tag <td/> na linha atual\n",
        "  for item in rows_municipios[row_atual_indice].find_all(\"td\"):\n",
        "\n",
        "    # Deleta bandeira, quebras de linhas e vírgulas do texto da célula\n",
        "    item = re.sub(\"(\\xa0)|(\\n)|,\", \"\", item.text)\n",
        "\n",
        "    # Adiciona o texto final à lista da linha atual\n",
        "    row_municipios_atual.append(item)\n",
        "    \n",
        "  # Após todas as células estarem na linha atual, adiciona ela à lista de todas as linhas da tabela\n",
        "  rows_municipios_final.append(row_municipios_atual)"
      ],
      "execution_count": 870,
      "outputs": []
    },
    {
      "cell_type": "code",
      "metadata": {
        "id": "9qJL1pRKSNMf"
      },
      "source": [
        "# Dicionário contendo as unidades federativas do Brasil e suas siglas\n",
        "DICT_UF = {\n",
        "           \"Acre\": \"AC\",\n",
        "           \"Alagoas\": \"AL\",\n",
        "           \"Amazonas\": \"AM\",\n",
        "           \"Amapá\": \"AP\",\n",
        "           \"Bahia\": \"BA\",\n",
        "           \"Ceará\": \"CE\",\n",
        "           \"Distrito Federal\": \"DF\",\n",
        "           \"Espírito Santo\": \"ES\",\n",
        "           \"Goiás\": \"GO\",\n",
        "           \"Maranhão\": \"MA\",\n",
        "           \"Mato Grosso\": \"MT\",\n",
        "           \"Mato Grosso do Sul\": \"MS\",\n",
        "           \"Minas Gerais\": \"MG\",\n",
        "           \"Pará\": \"PA\",\n",
        "           \"Paraíba\": \"PB\",\n",
        "           \"Paraná\": \"PR\",\n",
        "           \"Pernambuco\": \"PE\",\n",
        "           \"Piauí\": \"PI\",\n",
        "           \"Rio de Janeiro\": \"RJ\",\n",
        "           \"Rio Grande do Norte\": \"RN\",\n",
        "           \"Rio Grande do Sul\": \"RS\",\n",
        "           \"Rondônia\": \"RO\",\n",
        "           \"Roraima\": \"RR\",\n",
        "           \"Santa Catarina\": \"SC\",\n",
        "           \"São Paulo\": \"SP\",\n",
        "           \"Sergipe\": \"SE\",\n",
        "           \"Tocantins\": \"TO\"\n",
        "           }\n",
        "\n",
        "# Função que retorna a sigla da unidade federativa, dado o seu nome\n",
        "def conversao_uf(uf: str) -> str: \n",
        "  return DICT_UF[uf]"
      ],
      "execution_count": 871,
      "outputs": []
    },
    {
      "cell_type": "code",
      "metadata": {
        "id": "HmJYl29Z0dAc"
      },
      "source": [
        "# Cria um DataFrame com os dados tratados da tabela de municípios\n",
        "df_municipios = pd.DataFrame(data=rows_municipios_final, columns=headings_municipios_final)"
      ],
      "execution_count": 872,
      "outputs": []
    },
    {
      "cell_type": "code",
      "metadata": {
        "id": "ukxtaDn7AClG"
      },
      "source": [
        "# Remove as colunas Posição e Código IBGE, pois não são de interesse\n",
        "df_municipios = df_municipios.drop(columns=[\"Posição\", \"Código IBGE\"])\n",
        "\n",
        "# Renomeia a coluna Unidade federativa para UF\n",
        "df_municipios = df_municipios.rename(columns={\"Unidade federativa\": \"UF\"})\n",
        "\n",
        "# Converte os números em forma de string da coluna População para tipo numérico\n",
        "df_municipios[\"População\"] = df_municipios[\"População\"].apply(pd.to_numeric)\n",
        "\n",
        "# Retira os acentos dos nomes dos municípios e os coloca em maiúsculo, para posterior facilitação na junção de DataFrames\n",
        "df_municipios[\"Município\"] = df_municipios[\"Município\"].apply(unidecode)\n",
        "df_municipios[\"Município\"] = df_municipios[\"Município\"].str.upper()\n",
        "\n",
        "# Converte os nomes das UF para siglas, usando a função conversao_uf()\n",
        "df_municipios[\"UF\"] = df_municipios[\"UF\"].apply(conversao_uf)\n",
        "\n",
        "df_municipios = df_municipios.reindex(columns=[\"UF\", \"Município\", \"População\"])"
      ],
      "execution_count": 873,
      "outputs": []
    },
    {
      "cell_type": "code",
      "metadata": {
        "colab": {
          "base_uri": "https://localhost:8080/",
          "height": 195
        },
        "id": "NRHcV7EBy22_",
        "outputId": "0995b67f-8545-492e-a932-a1ddbf8c7c10"
      },
      "source": [
        "# Mostra as 5 primeiras entradas do DataFrame\n",
        "df_municipios.head()"
      ],
      "execution_count": 874,
      "outputs": [
        {
          "output_type": "execute_result",
          "data": {
            "text/html": [
              "<div>\n",
              "<style scoped>\n",
              "    .dataframe tbody tr th:only-of-type {\n",
              "        vertical-align: middle;\n",
              "    }\n",
              "\n",
              "    .dataframe tbody tr th {\n",
              "        vertical-align: top;\n",
              "    }\n",
              "\n",
              "    .dataframe thead th {\n",
              "        text-align: right;\n",
              "    }\n",
              "</style>\n",
              "<table border=\"1\" class=\"dataframe\">\n",
              "  <thead>\n",
              "    <tr style=\"text-align: right;\">\n",
              "      <th></th>\n",
              "      <th>UF</th>\n",
              "      <th>Município</th>\n",
              "      <th>População</th>\n",
              "    </tr>\n",
              "  </thead>\n",
              "  <tbody>\n",
              "    <tr>\n",
              "      <th>0</th>\n",
              "      <td>SP</td>\n",
              "      <td>SAO PAULO</td>\n",
              "      <td>12325232</td>\n",
              "    </tr>\n",
              "    <tr>\n",
              "      <th>1</th>\n",
              "      <td>RJ</td>\n",
              "      <td>RIO DE JANEIRO</td>\n",
              "      <td>6747815</td>\n",
              "    </tr>\n",
              "    <tr>\n",
              "      <th>2</th>\n",
              "      <td>DF</td>\n",
              "      <td>BRASILIA</td>\n",
              "      <td>3055149</td>\n",
              "    </tr>\n",
              "    <tr>\n",
              "      <th>3</th>\n",
              "      <td>BA</td>\n",
              "      <td>SALVADOR</td>\n",
              "      <td>2886698</td>\n",
              "    </tr>\n",
              "    <tr>\n",
              "      <th>4</th>\n",
              "      <td>CE</td>\n",
              "      <td>FORTALEZA</td>\n",
              "      <td>2686612</td>\n",
              "    </tr>\n",
              "  </tbody>\n",
              "</table>\n",
              "</div>"
            ],
            "text/plain": [
              "   UF       Município  População\n",
              "0  SP       SAO PAULO   12325232\n",
              "1  RJ  RIO DE JANEIRO    6747815\n",
              "2  DF        BRASILIA    3055149\n",
              "3  BA        SALVADOR    2886698\n",
              "4  CE       FORTALEZA    2686612"
            ]
          },
          "metadata": {
            "tags": []
          },
          "execution_count": 874
        }
      ]
    },
    {
      "cell_type": "code",
      "metadata": {
        "id": "h9KM2gtq5A3e"
      },
      "source": [
        "# Repete o mesmo processo para a tabela do IDHM\n",
        "tabela_idhm = lista_tabelas_idhm[0]\n",
        "\n",
        "body_idhm = tabela_idhm.find_all(\"tr\")\n",
        "\n",
        "headings_idhm = body_idhm[0]\n",
        "\n",
        "rows_idhm = body_idhm[1:]\n",
        "\n",
        "headings_idhm_final = list()\n",
        "\n",
        "for item in headings_idhm.find_all(\"th\"):\n",
        "  item = re.sub(\"\\n\", \" \", item.text)\n",
        "  headings_idhm_final.append(item)\n",
        "\n",
        "# Adiciona o cabeçalho UF à lista, para se tornar uma coluna posteriormente\n",
        "headings_idhm_final.append(\"UF\")"
      ],
      "execution_count": 875,
      "outputs": []
    },
    {
      "cell_type": "code",
      "metadata": {
        "id": "yqwvYmlc6LwK"
      },
      "source": [
        "# Continua o mesmo processo\n",
        "rows_idhm_final = list()\n",
        "\n",
        "# String contendo as UF do Brasil\n",
        "siglas_uf = \"(AC)|(AL)|(AM)|(AP)|(BA)|(CE)|(DF)|(ES)|(GO)|(MA)|(MT)|(MS)|(MG)|(PA)|(PB)|(PR)|(PE)|(PI)|(RJ)|(RN)|(RS)|(RO)|(RR)|(SC)|(SP)|(SE)|(TO)\"\n",
        "\n",
        "for row_atual_indice in range(len(rows_idhm)):\n",
        "\n",
        "  # Variável que salvará a UF do município atual\n",
        "  uf_atual = str()\n",
        "  row_idhm_atual = list()\n",
        "  for item in rows_idhm[row_atual_indice].find_all(\"td\"):\n",
        "\n",
        "    # Verifica qual é a UF atual e salva na variável correspondente\n",
        "    # A verificação é feita desta forma porque esta tabela segue a seguinte formatação:\n",
        "    # Município (UF)\n",
        "    for uf in DICT_UF.values():\n",
        "      if uf in item.text:\n",
        "        uf_atual = uf\n",
        "\n",
        "    # Remove as UF presentes nos nomes das cidades nessa tabela\n",
        "    item = (item.text).rstrip(siglas_uf)\n",
        "\n",
        "    # Remove os espaços em branco no final das strings\n",
        "    item = item.rstrip()\n",
        "    row_idhm_atual.append(item)\n",
        "  row_idhm_atual.append(uf_atual)\n",
        "  rows_idhm_final.append(row_idhm_atual)"
      ],
      "execution_count": 876,
      "outputs": []
    },
    {
      "cell_type": "code",
      "metadata": {
        "id": "VV7qpvkE0g6c"
      },
      "source": [
        "# Cria um DataFrame com os dados tratados da tabela de IDHM\n",
        "df_idhm = pd.DataFrame(data=rows_idhm_final, columns=headings_idhm_final)"
      ],
      "execution_count": 877,
      "outputs": []
    },
    {
      "cell_type": "code",
      "metadata": {
        "id": "YICO-b2q_Ncj"
      },
      "source": [
        "# Remove essas colunas, pois não são de interesse\n",
        "df_idhm = df_idhm.drop(columns=[\"Ranking IDHM 2010\", \"IDHM Renda 2010\", \"IDHM Longevidade 2010\", \"IDHM Educação 2010\"])\n",
        "\n",
        "# Renomeia IDHM 2010 para apenas IDHM\n",
        "df_idhm = df_idhm.rename(columns={\"IDHM 2010\": \"IDHM\"})\n",
        "\n",
        "# Substitui as vírgulas dos números decimais por pontos\n",
        "df_idhm[\"IDHM\"] = df_idhm[\"IDHM\"].str.replace(\",\", \".\")\n",
        "\n",
        "# Converte os números em forma de string da coluna IDHM para tipo numérico\n",
        "df_idhm[\"IDHM\"] = df_idhm[\"IDHM\"].apply(pd.to_numeric)\n",
        "\n",
        "# Retira os acentos dos nomes dos municípios e os coloca em maiúsculo, para posterior facilitação na junção de DataFrames\n",
        "df_idhm[\"Município\"] = df_idhm[\"Município\"].apply(unidecode)\n",
        "df_idhm[\"Município\"] = df_idhm[\"Município\"].str.upper()\n",
        "\n",
        "# Reordena as colunas\n",
        "df_idhm = df_idhm.reindex(columns=[\"UF\", \"Município\", \"IDHM\"])"
      ],
      "execution_count": 878,
      "outputs": []
    },
    {
      "cell_type": "code",
      "metadata": {
        "colab": {
          "base_uri": "https://localhost:8080/",
          "height": 195
        },
        "id": "HGf99kvxy6Zc",
        "outputId": "6cbb97cf-0c06-4586-febf-c2d1b49aed7c"
      },
      "source": [
        "# Mostra as 5 primeiras entradas do DataFrame\n",
        "df_idhm.head()"
      ],
      "execution_count": 879,
      "outputs": [
        {
          "output_type": "execute_result",
          "data": {
            "text/html": [
              "<div>\n",
              "<style scoped>\n",
              "    .dataframe tbody tr th:only-of-type {\n",
              "        vertical-align: middle;\n",
              "    }\n",
              "\n",
              "    .dataframe tbody tr th {\n",
              "        vertical-align: top;\n",
              "    }\n",
              "\n",
              "    .dataframe thead th {\n",
              "        text-align: right;\n",
              "    }\n",
              "</style>\n",
              "<table border=\"1\" class=\"dataframe\">\n",
              "  <thead>\n",
              "    <tr style=\"text-align: right;\">\n",
              "      <th></th>\n",
              "      <th>UF</th>\n",
              "      <th>Município</th>\n",
              "      <th>IDHM</th>\n",
              "    </tr>\n",
              "  </thead>\n",
              "  <tbody>\n",
              "    <tr>\n",
              "      <th>0</th>\n",
              "      <td>SP</td>\n",
              "      <td>SAO CAETANO DO SUL</td>\n",
              "      <td>0.862</td>\n",
              "    </tr>\n",
              "    <tr>\n",
              "      <th>1</th>\n",
              "      <td>SP</td>\n",
              "      <td>AGUAS DE SAO PEDRO</td>\n",
              "      <td>0.854</td>\n",
              "    </tr>\n",
              "    <tr>\n",
              "      <th>2</th>\n",
              "      <td>SC</td>\n",
              "      <td>FLORIANOPOLIS</td>\n",
              "      <td>0.847</td>\n",
              "    </tr>\n",
              "    <tr>\n",
              "      <th>3</th>\n",
              "      <td>SC</td>\n",
              "      <td>BALNEARIO CAMBORIU</td>\n",
              "      <td>0.845</td>\n",
              "    </tr>\n",
              "    <tr>\n",
              "      <th>4</th>\n",
              "      <td>ES</td>\n",
              "      <td>VITORIA</td>\n",
              "      <td>0.845</td>\n",
              "    </tr>\n",
              "  </tbody>\n",
              "</table>\n",
              "</div>"
            ],
            "text/plain": [
              "   UF           Município   IDHM\n",
              "0  SP  SAO CAETANO DO SUL  0.862\n",
              "1  SP  AGUAS DE SAO PEDRO  0.854\n",
              "2  SC       FLORIANOPOLIS  0.847\n",
              "3  SC  BALNEARIO CAMBORIU  0.845\n",
              "4  ES             VITORIA  0.845"
            ]
          },
          "metadata": {
            "tags": []
          },
          "execution_count": 879
        }
      ]
    },
    {
      "cell_type": "code",
      "metadata": {
        "id": "PZmZzJpJPECB"
      },
      "source": [
        "# Como falado acima, não há classe nas tabelas em URL_CELULARES, ou seja, não há como filtrar\n",
        "# Sendo assim, todas as tabelas da página foram para a lista lista_tabelas_celulares\n",
        "# Então, é feito um loop para encontrar aquela de interesse, quem contém a palavra \"Estado\" como um cabeçalho\n",
        "for tabela in lista_tabelas_celulares:\n",
        "  body_tabela = tabela.find_all(\"tr\")\n",
        "  headings_tabela = body_tabela[0]\n",
        "  for item in headings_tabela.find_all(\"th\"):\n",
        "    item = (item.text).rstrip(\"\\n\")\n",
        "    # Condição para a parada do loop\n",
        "    if item == \"Estado\":\n",
        "      tabela_celulares = tabela\n",
        "      break"
      ],
      "execution_count": 880,
      "outputs": []
    },
    {
      "cell_type": "code",
      "metadata": {
        "id": "9N1PvcmPSkR1"
      },
      "source": [
        "# Assim, o processo é repetido\n",
        "body_celulares = tabela_celulares.find_all(\"tr\")\n",
        "\n",
        "# É salvo a segunda linha de cabeçalhos pois a coluna de interesse encontra-se nessa posição\n",
        "headings_celulares = body_celulares[1]\n",
        "\n",
        "# As entradas são a partir da terceira linha\n",
        "rows_celulares = body_celulares[2:]\n",
        "\n",
        "headings_celulares_final = list()\n",
        "\n",
        "for item in headings_celulares.find_all(\"th\"):\n",
        "  # Tratamento para correção de espaços em branco excessivos\n",
        "  item = re.sub(\"\\n|\\r\", \" \", item.text)\n",
        "  item = item.replace(\" \", \"\")\n",
        "  headings_celulares_final.append(item)\n",
        "\n",
        "# Como alguns dos títulos de colunas estavam na primeira linha de cabeçalhos, enquanto a maioria estava na segunda linha (a escolhida),\n",
        "# eles serão adicionados agora: Estado e Dez 2020 (Milhares), nessa ordem após SMC\n",
        "\n",
        "# A tabela não é uniforme devido às colunas SMP e SMC. Como elas não são de interesse, serão removidas do cabeçalho\n",
        "\n",
        "headings_celulares_final.remove(\"SMP\")\n",
        "headings_celulares_final.remove(\"SMC\")\n",
        "\n",
        "# Como Estado ficaria logo após SMP e SMC e eles eram os primeiros da lista, ele entra na posição 0\n",
        "headings_celulares_final.insert(0, \"Estado\")\n",
        "\n",
        "# E Dez 2020 (Milhares) entrar na posição 1, por estar após Estado\n",
        "headings_celulares_final.insert(1, \"Dez 2020 (Milhares)\")"
      ],
      "execution_count": 881,
      "outputs": []
    },
    {
      "cell_type": "code",
      "metadata": {
        "id": "BfDv-D2hXStn"
      },
      "source": [
        "# O processo continua\n",
        "rows_celulares_final = list()\n",
        "\n",
        "for row_atual_indice in range(len(rows_celulares)):\n",
        "  row_celulares_atual = list()\n",
        "  for item in rows_celulares[row_atual_indice].find_all(\"td\"):\n",
        "    item = (item.text).rstrip(\"\\n\")\n",
        "    row_celulares_atual.append(item)\n",
        "\n",
        "  # Como dito anteriormente, não é uma tabela uniforme e, pela exclusão das colunas SMP e SMC, é preciso remover esses valores aqui também\n",
        "  # Já que em todas as outras colunas há apenas uma célula por coluna, cada linha deve ter o tamanho do vetor headings_celulares_final\n",
        "  # Se o tamanho da linha atual tiver duas posições a mais, ela tem valores para SMP e SMC\n",
        "  if len(row_celulares_atual) == (len(headings_celulares_final) + 2):\n",
        "    # Como estão nas posições 0 e 1, são removidas\n",
        "    row_celulares_atual.pop(1)\n",
        "    row_celulares_atual.pop(0)\n",
        "\n",
        "  # Caso seja uma posição maior, significa que tem valor apenas para SMC\n",
        "  elif len(row_celulares_atual) == (len(headings_celulares_final) + 1):\n",
        "\n",
        "    # Então, apenas a posição é removida\n",
        "    row_celulares_atual.pop(0)\n",
        "  rows_celulares_final.append(row_celulares_atual)"
      ],
      "execution_count": 882,
      "outputs": []
    },
    {
      "cell_type": "code",
      "metadata": {
        "id": "7ub6_dCq0lNn"
      },
      "source": [
        "# Cria um DataFrame com os dados tratados da tabela de celulares\n",
        "df_celulares = pd.DataFrame(data=rows_celulares_final, columns=headings_celulares_final)"
      ],
      "execution_count": 883,
      "outputs": []
    },
    {
      "cell_type": "code",
      "metadata": {
        "id": "nY2sLgNocA7v"
      },
      "source": [
        "# Remove essas colunas, pois não são de interesse\n",
        "df_celulares = df_celulares.drop(columns=[\"Dez 2020 (Milhares)\", \"NºCel.\", \"PréPagos\", \"Cresc.Mês\"])\n",
        "\n",
        "# Na tabela, as últimas 4 entradas são referentes ao Brasil todo e regiões menores, portanto são excluídas do dataframe com base no seu índice\n",
        "df_celulares = df_celulares.drop(range(len(df_celulares.index) - 4, len(df_celulares.index)))\n",
        "\n",
        "# Renomeia Dens* para apenas Teledensidade\n",
        "df_celulares = df_celulares.rename(columns={\"Dens*\": \"Teledensidade\"})\n",
        "\n",
        "# Substitui as vírgulas dos números decimais por pontos\n",
        "df_celulares[\"Teledensidade\"] = df_celulares[\"Teledensidade\"].str.replace(\",\", \".\")\n",
        "\n",
        "# Converte os números em forma de string da coluna Teledensidade para tipo numérico\n",
        "df_celulares[\"Teledensidade\"] = df_celulares[\"Teledensidade\"].apply(pd.to_numeric)\n",
        "\n",
        "# Divide todos os valores de TD por 100 pois antes o número era referente a 100 habitantes\n",
        "df_celulares[\"Teledensidade\"] = df_celulares[\"Teledensidade\"]/100\n",
        "\n",
        "# Renomeia Estado para UF\n",
        "df_celulares = df_celulares.rename(columns={\"Estado\": \"UF\"})\n",
        "\n",
        "# Converte os nomes das UF para siglas, usando convresao_uf() novamente\n",
        "df_celulares[\"UF\"] = df_celulares[\"UF\"].apply(conversao_uf)"
      ],
      "execution_count": 884,
      "outputs": []
    },
    {
      "cell_type": "code",
      "metadata": {
        "colab": {
          "base_uri": "https://localhost:8080/",
          "height": 195
        },
        "id": "TICPuW_Ay9CG",
        "outputId": "ad8105f2-041f-4c92-f7c6-094da0973d12"
      },
      "source": [
        "# Mostra as 5 primeiras entradas do DataFrame\n",
        "df_celulares.head()"
      ],
      "execution_count": 885,
      "outputs": [
        {
          "output_type": "execute_result",
          "data": {
            "text/html": [
              "<div>\n",
              "<style scoped>\n",
              "    .dataframe tbody tr th:only-of-type {\n",
              "        vertical-align: middle;\n",
              "    }\n",
              "\n",
              "    .dataframe tbody tr th {\n",
              "        vertical-align: top;\n",
              "    }\n",
              "\n",
              "    .dataframe thead th {\n",
              "        text-align: right;\n",
              "    }\n",
              "</style>\n",
              "<table border=\"1\" class=\"dataframe\">\n",
              "  <thead>\n",
              "    <tr style=\"text-align: right;\">\n",
              "      <th></th>\n",
              "      <th>UF</th>\n",
              "      <th>Teledensidade</th>\n",
              "    </tr>\n",
              "  </thead>\n",
              "  <tbody>\n",
              "    <tr>\n",
              "      <th>0</th>\n",
              "      <td>RJ</td>\n",
              "      <td>1.1710</td>\n",
              "    </tr>\n",
              "    <tr>\n",
              "      <th>1</th>\n",
              "      <td>ES</td>\n",
              "      <td>1.0332</td>\n",
              "    </tr>\n",
              "    <tr>\n",
              "      <th>2</th>\n",
              "      <td>MG</td>\n",
              "      <td>1.0290</td>\n",
              "    </tr>\n",
              "    <tr>\n",
              "      <th>3</th>\n",
              "      <td>AM</td>\n",
              "      <td>0.9254</td>\n",
              "    </tr>\n",
              "    <tr>\n",
              "      <th>4</th>\n",
              "      <td>RR</td>\n",
              "      <td>1.0120</td>\n",
              "    </tr>\n",
              "  </tbody>\n",
              "</table>\n",
              "</div>"
            ],
            "text/plain": [
              "   UF  Teledensidade\n",
              "0  RJ         1.1710\n",
              "1  ES         1.0332\n",
              "2  MG         1.0290\n",
              "3  AM         0.9254\n",
              "4  RR         1.0120"
            ]
          },
          "metadata": {
            "tags": []
          },
          "execution_count": 885
        }
      ]
    },
    {
      "cell_type": "code",
      "metadata": {
        "id": "rwJO5Elx0ndD"
      },
      "source": [
        "# Cria DataFrame com o arquivo excel referente às agências\n",
        "df_agencias = pd.read_excel(URL_AGENCIAS)"
      ],
      "execution_count": 886,
      "outputs": []
    },
    {
      "cell_type": "code",
      "metadata": {
        "id": "QbXEYqLanmjV"
      },
      "source": [
        "# Cria lista para guardar as colunas a serem removidas\n",
        "columns_agencias_drop = list()\n",
        "\n",
        "# Loop para percorrer todas as colunas do DataFrame\n",
        "for column in df_agencias:\n",
        "\n",
        "  # Remove os espaços em branco\n",
        "  new_column = column.rstrip()\n",
        "\n",
        "  # Atualiza os nomes das colunas\n",
        "  df_agencias = df_agencias.rename(columns={column: new_column})\n",
        "\n",
        "  # Se a coluna for diferente das de interesse, entra na lista de drop\n",
        "  if new_column != \"MUNICíPIO\" and new_column != \"UF\": \n",
        "    columns_agencias_drop.append(new_column)\n",
        "\n",
        "# Remove as colunas presentes na lista de drop\n",
        "df_agencias = df_agencias.drop(columns=columns_agencias_drop)\n",
        "\n",
        "# Renomeia as colunas\n",
        "df_agencias = df_agencias.rename(columns={\"MUNICíPIO\": \"Município\"})\n",
        "\n",
        "# Reorganiza as colunas\n",
        "df_agencias = df_agencias.reindex(columns=[\"UF\", \"Município\"])\n",
        "\n",
        "# Remove espaços em branco das colunas Município e Agência\n",
        "df_agencias[\"Município\"] = [\" \".join(item) for item in df_agencias[\"Município\"].str.split()]"
      ],
      "execution_count": 887,
      "outputs": []
    },
    {
      "cell_type": "code",
      "metadata": {
        "colab": {
          "base_uri": "https://localhost:8080/",
          "height": 195
        },
        "id": "XgfePmXuGqJ4",
        "outputId": "14c5aa0e-f73b-40b8-95be-ed380b28759a"
      },
      "source": [
        "# Mostra as primeiras 5 entradas do DataFrame\n",
        "df_agencias.head()"
      ],
      "execution_count": 888,
      "outputs": [
        {
          "output_type": "execute_result",
          "data": {
            "text/html": [
              "<div>\n",
              "<style scoped>\n",
              "    .dataframe tbody tr th:only-of-type {\n",
              "        vertical-align: middle;\n",
              "    }\n",
              "\n",
              "    .dataframe tbody tr th {\n",
              "        vertical-align: top;\n",
              "    }\n",
              "\n",
              "    .dataframe thead th {\n",
              "        text-align: right;\n",
              "    }\n",
              "</style>\n",
              "<table border=\"1\" class=\"dataframe\">\n",
              "  <thead>\n",
              "    <tr style=\"text-align: right;\">\n",
              "      <th></th>\n",
              "      <th>UF</th>\n",
              "      <th>Município</th>\n",
              "    </tr>\n",
              "  </thead>\n",
              "  <tbody>\n",
              "    <tr>\n",
              "      <th>0</th>\n",
              "      <td>AM</td>\n",
              "      <td>MANAUS</td>\n",
              "    </tr>\n",
              "    <tr>\n",
              "      <th>1</th>\n",
              "      <td>PA</td>\n",
              "      <td>BELEM</td>\n",
              "    </tr>\n",
              "    <tr>\n",
              "      <th>2</th>\n",
              "      <td>SP</td>\n",
              "      <td>SANTOS</td>\n",
              "    </tr>\n",
              "    <tr>\n",
              "      <th>3</th>\n",
              "      <td>RJ</td>\n",
              "      <td>CAMPOS DOS GOYTACAZES</td>\n",
              "    </tr>\n",
              "    <tr>\n",
              "      <th>4</th>\n",
              "      <td>BA</td>\n",
              "      <td>SALVADOR</td>\n",
              "    </tr>\n",
              "  </tbody>\n",
              "</table>\n",
              "</div>"
            ],
            "text/plain": [
              "   UF              Município\n",
              "0  AM                 MANAUS\n",
              "1  PA                  BELEM\n",
              "2  SP                 SANTOS\n",
              "3  RJ  CAMPOS DOS GOYTACAZES\n",
              "4  BA               SALVADOR"
            ]
          },
          "metadata": {
            "tags": []
          },
          "execution_count": 888
        }
      ]
    },
    {
      "cell_type": "code",
      "metadata": {
        "id": "XJUbTl-EGywF"
      },
      "source": [
        "# Cria DataFrame com o arquivo excel referente aos postos de atendimento\n",
        "df_atendimento = pd.read_excel(URL_ATENDIMENTO)"
      ],
      "execution_count": 889,
      "outputs": []
    },
    {
      "cell_type": "code",
      "metadata": {
        "id": "srGBPOIDG_5W"
      },
      "source": [
        "# Cria lista para guardar as colunas a serem removidas\n",
        "columns_atendimento_drop = list()\n",
        "\n",
        "# Loop para percorrer todas as colunas do DataFrame\n",
        "for column in df_atendimento:\n",
        "\n",
        "  # Remove os espaços em branco\n",
        "  new_column = column.rstrip()\n",
        "\n",
        "  # Atualiza os nomes das colunas\n",
        "  df_atendimento = df_atendimento.rename(columns={column: new_column})\n",
        "\n",
        "  # Se a coluna for diferente das de interesse, entra na lista de drop\n",
        "  if new_column != \"MUNICIPIO\" and new_column != \"UF\": \n",
        "    columns_atendimento_drop.append(new_column)\n",
        "\n",
        "# Remove as colunas presentes na lista de drop\n",
        "df_atendimento = df_atendimento.drop(columns=columns_atendimento_drop)\n",
        "\n",
        "# Renomeia as colunas\n",
        "df_atendimento = df_atendimento.rename(columns={\"MUNICIPIO\": \"Município\"})\n",
        "\n",
        "# Reorganiza as colunas\n",
        "df_atendimento = df_atendimento.reindex(columns=[\"UF\", \"Município\"])\n",
        "\n",
        "# Remove espaços em branco das colunas Município\n",
        "df_atendimento[\"Município\"] = [\" \".join(item) for item in df_atendimento[\"Município\"].str.split()]"
      ],
      "execution_count": 890,
      "outputs": []
    },
    {
      "cell_type": "code",
      "metadata": {
        "colab": {
          "base_uri": "https://localhost:8080/",
          "height": 195
        },
        "id": "84GCZM-0UWx6",
        "outputId": "b7c686fb-efbf-4836-a33f-c061e93187db"
      },
      "source": [
        "# Mostra as primeiras 5 entradas do DataFrame\n",
        "df_atendimento.head()"
      ],
      "execution_count": 891,
      "outputs": [
        {
          "output_type": "execute_result",
          "data": {
            "text/html": [
              "<div>\n",
              "<style scoped>\n",
              "    .dataframe tbody tr th:only-of-type {\n",
              "        vertical-align: middle;\n",
              "    }\n",
              "\n",
              "    .dataframe tbody tr th {\n",
              "        vertical-align: top;\n",
              "    }\n",
              "\n",
              "    .dataframe thead th {\n",
              "        text-align: right;\n",
              "    }\n",
              "</style>\n",
              "<table border=\"1\" class=\"dataframe\">\n",
              "  <thead>\n",
              "    <tr style=\"text-align: right;\">\n",
              "      <th></th>\n",
              "      <th>UF</th>\n",
              "      <th>Município</th>\n",
              "    </tr>\n",
              "  </thead>\n",
              "  <tbody>\n",
              "    <tr>\n",
              "      <th>0</th>\n",
              "      <td>AC</td>\n",
              "      <td>ASSIS BRASIL</td>\n",
              "    </tr>\n",
              "    <tr>\n",
              "      <th>1</th>\n",
              "      <td>AC</td>\n",
              "      <td>FEIJO</td>\n",
              "    </tr>\n",
              "    <tr>\n",
              "      <th>2</th>\n",
              "      <td>AC</td>\n",
              "      <td>MANCIO LIMA</td>\n",
              "    </tr>\n",
              "    <tr>\n",
              "      <th>3</th>\n",
              "      <td>AC</td>\n",
              "      <td>RIO BRANCO</td>\n",
              "    </tr>\n",
              "    <tr>\n",
              "      <th>4</th>\n",
              "      <td>AC</td>\n",
              "      <td>RIO BRANCO</td>\n",
              "    </tr>\n",
              "  </tbody>\n",
              "</table>\n",
              "</div>"
            ],
            "text/plain": [
              "   UF     Município\n",
              "0  AC  ASSIS BRASIL\n",
              "1  AC         FEIJO\n",
              "2  AC   MANCIO LIMA\n",
              "3  AC    RIO BRANCO\n",
              "4  AC    RIO BRANCO"
            ]
          },
          "metadata": {
            "tags": []
          },
          "execution_count": 891
        }
      ]
    },
    {
      "cell_type": "code",
      "metadata": {
        "id": "Khgg1hYfUfnQ"
      },
      "source": [
        "# Cria DataFrame com o arquivo excel referente aos postos de atendimento eletrônico\n",
        "df_atendimento_eletronico = pd.read_excel(URL_ATENDIMENTO_ELETRONICO)"
      ],
      "execution_count": 892,
      "outputs": []
    },
    {
      "cell_type": "code",
      "metadata": {
        "id": "-pXHPevsUlo3"
      },
      "source": [
        "# Cria lista para guardar as colunas a serem removidas\n",
        "columns_atendimento_eletronico_drop = list()\n",
        "\n",
        "# Loop para percorrer todas as colunas do DataFrame\n",
        "for column in df_atendimento_eletronico:\n",
        "\n",
        "  # Remove os espaços em branco\n",
        "  new_column = column.rstrip()\n",
        "\n",
        "  # Atualiza os nomes das colunas\n",
        "  df_atendimento_eletronico = df_atendimento_eletronico.rename(columns={column: new_column})\n",
        "\n",
        "  # Se a coluna for diferente das de interesse, entra na lista de drop\n",
        "  if new_column != \"MUNICIPIO\" and new_column != \"UF\": \n",
        "    columns_atendimento_eletronico_drop.append(new_column)\n",
        "\n",
        "# Remove as colunas presentes na lista de drop\n",
        "df_atendimento_eletronico = df_atendimento_eletronico.drop(columns=columns_atendimento_eletronico_drop)\n",
        "\n",
        "# Renomeia as colunas\n",
        "df_atendimento_eletronico = df_atendimento_eletronico.rename(columns={\"MUNICIPIO\": \"Município\"})\n",
        "\n",
        "# Reorganiza as colunas\n",
        "df_atendimento_eletronico = df_atendimento_eletronico.reindex(columns=[\"UF\", \"Município\"])\n",
        "\n",
        "# Remove espaços em branco das colunas Município\n",
        "df_atendimento_eletronico[\"Município\"] = [\" \".join(item) for item in df_atendimento_eletronico[\"Município\"].str.split()]"
      ],
      "execution_count": 893,
      "outputs": []
    },
    {
      "cell_type": "code",
      "metadata": {
        "colab": {
          "base_uri": "https://localhost:8080/",
          "height": 195
        },
        "id": "OmKvGfw2WCm9",
        "outputId": "af878862-29c4-4900-cac9-ad5ed003a502"
      },
      "source": [
        "# Mostra as primeiras 5 entradas do DataFrame\n",
        "df_atendimento_eletronico.head()"
      ],
      "execution_count": 894,
      "outputs": [
        {
          "output_type": "execute_result",
          "data": {
            "text/html": [
              "<div>\n",
              "<style scoped>\n",
              "    .dataframe tbody tr th:only-of-type {\n",
              "        vertical-align: middle;\n",
              "    }\n",
              "\n",
              "    .dataframe tbody tr th {\n",
              "        vertical-align: top;\n",
              "    }\n",
              "\n",
              "    .dataframe thead th {\n",
              "        text-align: right;\n",
              "    }\n",
              "</style>\n",
              "<table border=\"1\" class=\"dataframe\">\n",
              "  <thead>\n",
              "    <tr style=\"text-align: right;\">\n",
              "      <th></th>\n",
              "      <th>UF</th>\n",
              "      <th>Município</th>\n",
              "    </tr>\n",
              "  </thead>\n",
              "  <tbody>\n",
              "    <tr>\n",
              "      <th>0</th>\n",
              "      <td></td>\n",
              "      <td>MIAMI</td>\n",
              "    </tr>\n",
              "    <tr>\n",
              "      <th>1</th>\n",
              "      <td></td>\n",
              "      <td>NEW YORK</td>\n",
              "    </tr>\n",
              "    <tr>\n",
              "      <th>2</th>\n",
              "      <td>AC</td>\n",
              "      <td>ACRELANDIA</td>\n",
              "    </tr>\n",
              "    <tr>\n",
              "      <th>3</th>\n",
              "      <td>AC</td>\n",
              "      <td>ASSIS BRASIL</td>\n",
              "    </tr>\n",
              "    <tr>\n",
              "      <th>4</th>\n",
              "      <td>AC</td>\n",
              "      <td>BRASILEIA</td>\n",
              "    </tr>\n",
              "  </tbody>\n",
              "</table>\n",
              "</div>"
            ],
            "text/plain": [
              "   UF     Município\n",
              "0             MIAMI\n",
              "1          NEW YORK\n",
              "2  AC    ACRELANDIA\n",
              "3  AC  ASSIS BRASIL\n",
              "4  AC     BRASILEIA"
            ]
          },
          "metadata": {
            "tags": []
          },
          "execution_count": 894
        }
      ]
    },
    {
      "cell_type": "code",
      "metadata": {
        "id": "D5qLIHdpbtkG"
      },
      "source": [
        "# Conta quantas vezes cada município aparece na tabela de Agência e coloca em um novo dataframe\n",
        "# Cada entrada na tabela significa uma nova agência\n",
        "df_agencias_final = df_agencias.groupby(df_agencias.columns.tolist(), as_index=False).size()\n",
        "\n",
        "# Renomeia a coluna size para Agências\n",
        "df_agencias_final = df_agencias_final.rename(columns={\"size\": \"Agências\"})\n",
        "\n",
        "# Converte a quantidade de agências para tipo númerico\n",
        "df_agencias_final[\"Agências\"] = df_agencias_final[\"Agências\"].apply(pd.to_numeric)"
      ],
      "execution_count": 895,
      "outputs": []
    },
    {
      "cell_type": "code",
      "metadata": {
        "colab": {
          "base_uri": "https://localhost:8080/",
          "height": 195
        },
        "id": "c567vJCoflSy",
        "outputId": "8087a162-4157-47ce-cb4a-e71a7b5b0aac"
      },
      "source": [
        "# Mostra as primeiras 5 entradas do DataFrame\n",
        "df_agencias_final.head()"
      ],
      "execution_count": 896,
      "outputs": [
        {
          "output_type": "execute_result",
          "data": {
            "text/html": [
              "<div>\n",
              "<style scoped>\n",
              "    .dataframe tbody tr th:only-of-type {\n",
              "        vertical-align: middle;\n",
              "    }\n",
              "\n",
              "    .dataframe tbody tr th {\n",
              "        vertical-align: top;\n",
              "    }\n",
              "\n",
              "    .dataframe thead th {\n",
              "        text-align: right;\n",
              "    }\n",
              "</style>\n",
              "<table border=\"1\" class=\"dataframe\">\n",
              "  <thead>\n",
              "    <tr style=\"text-align: right;\">\n",
              "      <th></th>\n",
              "      <th>UF</th>\n",
              "      <th>Município</th>\n",
              "      <th>Agências</th>\n",
              "    </tr>\n",
              "  </thead>\n",
              "  <tbody>\n",
              "    <tr>\n",
              "      <th>0</th>\n",
              "      <td>AC</td>\n",
              "      <td>ACRELANDIA</td>\n",
              "      <td>1</td>\n",
              "    </tr>\n",
              "    <tr>\n",
              "      <th>1</th>\n",
              "      <td>AC</td>\n",
              "      <td>ASSIS BRASIL</td>\n",
              "      <td>1</td>\n",
              "    </tr>\n",
              "    <tr>\n",
              "      <th>2</th>\n",
              "      <td>AC</td>\n",
              "      <td>BRASILEIA</td>\n",
              "      <td>4</td>\n",
              "    </tr>\n",
              "    <tr>\n",
              "      <th>3</th>\n",
              "      <td>AC</td>\n",
              "      <td>BUJARI</td>\n",
              "      <td>1</td>\n",
              "    </tr>\n",
              "    <tr>\n",
              "      <th>4</th>\n",
              "      <td>AC</td>\n",
              "      <td>CRUZEIRO DO SUL</td>\n",
              "      <td>4</td>\n",
              "    </tr>\n",
              "  </tbody>\n",
              "</table>\n",
              "</div>"
            ],
            "text/plain": [
              "   UF        Município  Agências\n",
              "0  AC       ACRELANDIA         1\n",
              "1  AC     ASSIS BRASIL         1\n",
              "2  AC        BRASILEIA         4\n",
              "3  AC           BUJARI         1\n",
              "4  AC  CRUZEIRO DO SUL         4"
            ]
          },
          "metadata": {
            "tags": []
          },
          "execution_count": 896
        }
      ]
    },
    {
      "cell_type": "code",
      "metadata": {
        "id": "ynmtNS-Pe-QX"
      },
      "source": [
        "# O mesmo processo é aplicado para o DataFrame de Postos de Atendimento\n",
        "df_atendimento_final = df_atendimento.groupby(df_atendimento.columns.tolist(), as_index=False).size()\n",
        "\n",
        "# Renomeia a coluna size para PA\n",
        "df_atendimento_final = df_atendimento_final.rename(columns={\"size\": \"PA\"})\n",
        "\n",
        "# Converte a quantidade de agências para tipo númerico\n",
        "df_atendimento_final[\"PA\"] = df_atendimento_final[\"PA\"].apply(pd.to_numeric)"
      ],
      "execution_count": 897,
      "outputs": []
    },
    {
      "cell_type": "code",
      "metadata": {
        "colab": {
          "base_uri": "https://localhost:8080/",
          "height": 195
        },
        "id": "aGacH9V7fjoZ",
        "outputId": "bd82103d-739f-44c6-bfac-9ce4f74808b0"
      },
      "source": [
        "# Mostra as primeiras 5 entradas do DataFrame\n",
        "df_atendimento_final.head()"
      ],
      "execution_count": 898,
      "outputs": [
        {
          "output_type": "execute_result",
          "data": {
            "text/html": [
              "<div>\n",
              "<style scoped>\n",
              "    .dataframe tbody tr th:only-of-type {\n",
              "        vertical-align: middle;\n",
              "    }\n",
              "\n",
              "    .dataframe tbody tr th {\n",
              "        vertical-align: top;\n",
              "    }\n",
              "\n",
              "    .dataframe thead th {\n",
              "        text-align: right;\n",
              "    }\n",
              "</style>\n",
              "<table border=\"1\" class=\"dataframe\">\n",
              "  <thead>\n",
              "    <tr style=\"text-align: right;\">\n",
              "      <th></th>\n",
              "      <th>UF</th>\n",
              "      <th>Município</th>\n",
              "      <th>PA</th>\n",
              "    </tr>\n",
              "  </thead>\n",
              "  <tbody>\n",
              "    <tr>\n",
              "      <th>0</th>\n",
              "      <td>AC</td>\n",
              "      <td>ACRELANDIA</td>\n",
              "      <td>3</td>\n",
              "    </tr>\n",
              "    <tr>\n",
              "      <th>1</th>\n",
              "      <td>AC</td>\n",
              "      <td>ASSIS BRASIL</td>\n",
              "      <td>1</td>\n",
              "    </tr>\n",
              "    <tr>\n",
              "      <th>2</th>\n",
              "      <td>AC</td>\n",
              "      <td>BRASILEIA</td>\n",
              "      <td>2</td>\n",
              "    </tr>\n",
              "    <tr>\n",
              "      <th>3</th>\n",
              "      <td>AC</td>\n",
              "      <td>CAPIXABA</td>\n",
              "      <td>2</td>\n",
              "    </tr>\n",
              "    <tr>\n",
              "      <th>4</th>\n",
              "      <td>AC</td>\n",
              "      <td>CRUZEIRO DO SUL</td>\n",
              "      <td>3</td>\n",
              "    </tr>\n",
              "  </tbody>\n",
              "</table>\n",
              "</div>"
            ],
            "text/plain": [
              "   UF        Município  PA\n",
              "0  AC       ACRELANDIA   3\n",
              "1  AC     ASSIS BRASIL   1\n",
              "2  AC        BRASILEIA   2\n",
              "3  AC         CAPIXABA   2\n",
              "4  AC  CRUZEIRO DO SUL   3"
            ]
          },
          "metadata": {
            "tags": []
          },
          "execution_count": 898
        }
      ]
    },
    {
      "cell_type": "code",
      "metadata": {
        "id": "as4dNMwtgLRb"
      },
      "source": [
        "# O mesmo procedimento é feito com o DataFrame de Postos de Atendimento Eletrônico\n",
        "df_atendimento_eletronico_final = df_atendimento_eletronico.groupby(df_atendimento_eletronico.columns.tolist(), as_index=False).size()\n",
        "\n",
        "# Renomeia a coluna size para PAE\n",
        "df_atendimento_eletronico_final = df_atendimento_eletronico_final.rename(columns={\"size\": \"PAE\"})\n",
        "\n",
        "# Converte a quantidade de agências para tipo númerico\n",
        "df_atendimento_eletronico_final[\"PAE\"] = df_atendimento_eletronico_final[\"PAE\"].apply(pd.to_numeric)"
      ],
      "execution_count": 899,
      "outputs": []
    },
    {
      "cell_type": "code",
      "metadata": {
        "colab": {
          "base_uri": "https://localhost:8080/",
          "height": 195
        },
        "id": "b-KTPZcJhGTg",
        "outputId": "d4fe9712-77fb-4f55-cb7d-007e606d5dd0"
      },
      "source": [
        "# Mostra as primeiras 5 entradas do DataFrame\n",
        "df_atendimento_eletronico_final.head()"
      ],
      "execution_count": 900,
      "outputs": [
        {
          "output_type": "execute_result",
          "data": {
            "text/html": [
              "<div>\n",
              "<style scoped>\n",
              "    .dataframe tbody tr th:only-of-type {\n",
              "        vertical-align: middle;\n",
              "    }\n",
              "\n",
              "    .dataframe tbody tr th {\n",
              "        vertical-align: top;\n",
              "    }\n",
              "\n",
              "    .dataframe thead th {\n",
              "        text-align: right;\n",
              "    }\n",
              "</style>\n",
              "<table border=\"1\" class=\"dataframe\">\n",
              "  <thead>\n",
              "    <tr style=\"text-align: right;\">\n",
              "      <th></th>\n",
              "      <th>UF</th>\n",
              "      <th>Município</th>\n",
              "      <th>PAE</th>\n",
              "    </tr>\n",
              "  </thead>\n",
              "  <tbody>\n",
              "    <tr>\n",
              "      <th>0</th>\n",
              "      <td></td>\n",
              "      <td>MIAMI</td>\n",
              "      <td>1</td>\n",
              "    </tr>\n",
              "    <tr>\n",
              "      <th>1</th>\n",
              "      <td></td>\n",
              "      <td>NEW YORK</td>\n",
              "      <td>1</td>\n",
              "    </tr>\n",
              "    <tr>\n",
              "      <th>2</th>\n",
              "      <td>AC</td>\n",
              "      <td>ACRELANDIA</td>\n",
              "      <td>2</td>\n",
              "    </tr>\n",
              "    <tr>\n",
              "      <th>3</th>\n",
              "      <td>AC</td>\n",
              "      <td>ASSIS BRASIL</td>\n",
              "      <td>2</td>\n",
              "    </tr>\n",
              "    <tr>\n",
              "      <th>4</th>\n",
              "      <td>AC</td>\n",
              "      <td>BRASILEIA</td>\n",
              "      <td>3</td>\n",
              "    </tr>\n",
              "  </tbody>\n",
              "</table>\n",
              "</div>"
            ],
            "text/plain": [
              "   UF     Município  PAE\n",
              "0             MIAMI    1\n",
              "1          NEW YORK    1\n",
              "2  AC    ACRELANDIA    2\n",
              "3  AC  ASSIS BRASIL    2\n",
              "4  AC     BRASILEIA    3"
            ]
          },
          "metadata": {
            "tags": []
          },
          "execution_count": 900
        }
      ]
    },
    {
      "cell_type": "code",
      "metadata": {
        "id": "TCN0EIPdk4HG"
      },
      "source": [
        "# Como podem ter municípios presentes em uma tabela e não em outra, é usado o meio outer para manter informações das duas tabelas\n",
        "# Junção das tabelas Agências e PA com base no município\n",
        "df_banco = pd.merge(df_agencias_final, df_atendimento_final,  how=\"outer\", on=[\"Município\", \"UF\"])"
      ],
      "execution_count": 901,
      "outputs": []
    },
    {
      "cell_type": "code",
      "metadata": {
        "id": "KVJNRHaAoHTs"
      },
      "source": [
        "# O mesmo procedimento é feito para a tabela resultante e PAE\n",
        "df_banco = pd.merge(df_banco, df_atendimento_eletronico_final,  how=\"outer\", on=[\"Município\", \"UF\"])"
      ],
      "execution_count": 902,
      "outputs": []
    },
    {
      "cell_type": "code",
      "metadata": {
        "id": "E_4kf2g4oTOz"
      },
      "source": [
        "# Como existem valores NaN, assume-se que são 0, uma vez que se não está presente em na tabela Agências,\n",
        "# significa que não há nenhuma lá, o que interefere no nível de bancarização\n",
        "df_banco = df_banco.fillna(0)"
      ],
      "execution_count": 903,
      "outputs": []
    },
    {
      "cell_type": "code",
      "metadata": {
        "colab": {
          "base_uri": "https://localhost:8080/",
          "height": 195
        },
        "id": "UfdjRyRwlm1H",
        "outputId": "205f2b72-848e-4ef4-f1de-bb45f1b731dc"
      },
      "source": [
        "# Mostra as 5 primeiras entradas do DataFrame Banco, contendo as informações de agências e postos de atendimento sobre os municípios\n",
        "df_banco.head()"
      ],
      "execution_count": 904,
      "outputs": [
        {
          "output_type": "execute_result",
          "data": {
            "text/html": [
              "<div>\n",
              "<style scoped>\n",
              "    .dataframe tbody tr th:only-of-type {\n",
              "        vertical-align: middle;\n",
              "    }\n",
              "\n",
              "    .dataframe tbody tr th {\n",
              "        vertical-align: top;\n",
              "    }\n",
              "\n",
              "    .dataframe thead th {\n",
              "        text-align: right;\n",
              "    }\n",
              "</style>\n",
              "<table border=\"1\" class=\"dataframe\">\n",
              "  <thead>\n",
              "    <tr style=\"text-align: right;\">\n",
              "      <th></th>\n",
              "      <th>UF</th>\n",
              "      <th>Município</th>\n",
              "      <th>Agências</th>\n",
              "      <th>PA</th>\n",
              "      <th>PAE</th>\n",
              "    </tr>\n",
              "  </thead>\n",
              "  <tbody>\n",
              "    <tr>\n",
              "      <th>0</th>\n",
              "      <td>AC</td>\n",
              "      <td>ACRELANDIA</td>\n",
              "      <td>1.0</td>\n",
              "      <td>3.0</td>\n",
              "      <td>2.0</td>\n",
              "    </tr>\n",
              "    <tr>\n",
              "      <th>1</th>\n",
              "      <td>AC</td>\n",
              "      <td>ASSIS BRASIL</td>\n",
              "      <td>1.0</td>\n",
              "      <td>1.0</td>\n",
              "      <td>2.0</td>\n",
              "    </tr>\n",
              "    <tr>\n",
              "      <th>2</th>\n",
              "      <td>AC</td>\n",
              "      <td>BRASILEIA</td>\n",
              "      <td>4.0</td>\n",
              "      <td>2.0</td>\n",
              "      <td>3.0</td>\n",
              "    </tr>\n",
              "    <tr>\n",
              "      <th>3</th>\n",
              "      <td>AC</td>\n",
              "      <td>BUJARI</td>\n",
              "      <td>1.0</td>\n",
              "      <td>0.0</td>\n",
              "      <td>2.0</td>\n",
              "    </tr>\n",
              "    <tr>\n",
              "      <th>4</th>\n",
              "      <td>AC</td>\n",
              "      <td>CRUZEIRO DO SUL</td>\n",
              "      <td>4.0</td>\n",
              "      <td>3.0</td>\n",
              "      <td>15.0</td>\n",
              "    </tr>\n",
              "  </tbody>\n",
              "</table>\n",
              "</div>"
            ],
            "text/plain": [
              "   UF        Município  Agências   PA   PAE\n",
              "0  AC       ACRELANDIA       1.0  3.0   2.0\n",
              "1  AC     ASSIS BRASIL       1.0  1.0   2.0\n",
              "2  AC        BRASILEIA       4.0  2.0   3.0\n",
              "3  AC           BUJARI       1.0  0.0   2.0\n",
              "4  AC  CRUZEIRO DO SUL       4.0  3.0  15.0"
            ]
          },
          "metadata": {
            "tags": []
          },
          "execution_count": 904
        }
      ]
    },
    {
      "cell_type": "code",
      "metadata": {
        "id": "7WMmOqY3nh7p"
      },
      "source": [
        "# Agora, com os quatro DataFrames df_municipios, df_idhm, df_celulares e df_banco, basta fazer joins para\n",
        "# juntar todos eles, a fim de deixar todas as informações juntas\n",
        "# Seguindo a mesma lógica das tabelas anteriores, são feitas joins do tipo outer\n",
        "# Primeiro, ocorre o merge entre df_municipios, df_idhm e df_banco\n",
        "# A condição é que o nome do município e o UF sejam iguais, já que existem municípios de mesmo nome no Brasil\n",
        "data_frames = [df_municipios, df_idhm, df_banco]\n",
        "df_bancarizacao = reduce(lambda  left,right: pd.merge(left,right,on=[\"Município\", \"UF\"], how='outer'), data_frames)"
      ],
      "execution_count": 905,
      "outputs": []
    },
    {
      "cell_type": "code",
      "metadata": {
        "id": "T4MB-r0vpQPo"
      },
      "source": [
        "# Em seguida, une-se df_bancarizacao e df_celulares baseado no UF \n",
        "df_bancarizacao = pd.merge(df_bancarizacao, df_celulares, how=\"inner\", on=\"UF\")"
      ],
      "execution_count": 906,
      "outputs": []
    },
    {
      "cell_type": "code",
      "metadata": {
        "id": "OaH6OaP192HB"
      },
      "source": [
        "# Como agora só há Nan em informações que realmente são faltantes, essas entradas são retiradas do DataFrame\n",
        "df_bancarizacao = df_bancarizacao.dropna()\n",
        "\n",
        "# Reseta os índices após a remoçõ de algumas linhas\n",
        "df_bancarizacao = df_bancarizacao.reset_index()\n",
        "\n",
        "# Remove a coluna index, feita após o último método\n",
        "df_bancarizacao = df_bancarizacao.drop(columns=[\"index\"])"
      ],
      "execution_count": 907,
      "outputs": []
    },
    {
      "cell_type": "code",
      "metadata": {
        "colab": {
          "base_uri": "https://localhost:8080/",
          "height": 195
        },
        "id": "RiIEcpp2oXWQ",
        "outputId": "56d4ba72-80a4-4d19-e7ae-30de400d7305"
      },
      "source": [
        "# Mostra as cinco primeiras entradas do DataFrame df_bancarizacao\n",
        "df_bancarizacao.head()"
      ],
      "execution_count": 908,
      "outputs": [
        {
          "output_type": "execute_result",
          "data": {
            "text/html": [
              "<div>\n",
              "<style scoped>\n",
              "    .dataframe tbody tr th:only-of-type {\n",
              "        vertical-align: middle;\n",
              "    }\n",
              "\n",
              "    .dataframe tbody tr th {\n",
              "        vertical-align: top;\n",
              "    }\n",
              "\n",
              "    .dataframe thead th {\n",
              "        text-align: right;\n",
              "    }\n",
              "</style>\n",
              "<table border=\"1\" class=\"dataframe\">\n",
              "  <thead>\n",
              "    <tr style=\"text-align: right;\">\n",
              "      <th></th>\n",
              "      <th>UF</th>\n",
              "      <th>Município</th>\n",
              "      <th>População</th>\n",
              "      <th>IDHM</th>\n",
              "      <th>Agências</th>\n",
              "      <th>PA</th>\n",
              "      <th>PAE</th>\n",
              "      <th>Teledensidade</th>\n",
              "    </tr>\n",
              "  </thead>\n",
              "  <tbody>\n",
              "    <tr>\n",
              "      <th>0</th>\n",
              "      <td>SP</td>\n",
              "      <td>SAO PAULO</td>\n",
              "      <td>12325232.0</td>\n",
              "      <td>0.805</td>\n",
              "      <td>2170.0</td>\n",
              "      <td>1178.0</td>\n",
              "      <td>1864.0</td>\n",
              "      <td>1.5077</td>\n",
              "    </tr>\n",
              "    <tr>\n",
              "      <th>1</th>\n",
              "      <td>SP</td>\n",
              "      <td>GUARULHOS</td>\n",
              "      <td>1392121.0</td>\n",
              "      <td>0.763</td>\n",
              "      <td>101.0</td>\n",
              "      <td>113.0</td>\n",
              "      <td>149.0</td>\n",
              "      <td>1.5077</td>\n",
              "    </tr>\n",
              "    <tr>\n",
              "      <th>2</th>\n",
              "      <td>SP</td>\n",
              "      <td>CAMPINAS</td>\n",
              "      <td>1213792.0</td>\n",
              "      <td>0.805</td>\n",
              "      <td>203.0</td>\n",
              "      <td>153.0</td>\n",
              "      <td>139.0</td>\n",
              "      <td>1.5077</td>\n",
              "    </tr>\n",
              "    <tr>\n",
              "      <th>3</th>\n",
              "      <td>SP</td>\n",
              "      <td>SAO BERNARDO DO CAMPO</td>\n",
              "      <td>844483.0</td>\n",
              "      <td>0.805</td>\n",
              "      <td>90.0</td>\n",
              "      <td>95.0</td>\n",
              "      <td>115.0</td>\n",
              "      <td>1.5077</td>\n",
              "    </tr>\n",
              "    <tr>\n",
              "      <th>4</th>\n",
              "      <td>SP</td>\n",
              "      <td>SAO JOSE DOS CAMPOS</td>\n",
              "      <td>729737.0</td>\n",
              "      <td>0.807</td>\n",
              "      <td>75.0</td>\n",
              "      <td>101.0</td>\n",
              "      <td>90.0</td>\n",
              "      <td>1.5077</td>\n",
              "    </tr>\n",
              "  </tbody>\n",
              "</table>\n",
              "</div>"
            ],
            "text/plain": [
              "   UF              Município   População  ...      PA     PAE  Teledensidade\n",
              "0  SP              SAO PAULO  12325232.0  ...  1178.0  1864.0         1.5077\n",
              "1  SP              GUARULHOS   1392121.0  ...   113.0   149.0         1.5077\n",
              "2  SP               CAMPINAS   1213792.0  ...   153.0   139.0         1.5077\n",
              "3  SP  SAO BERNARDO DO CAMPO    844483.0  ...    95.0   115.0         1.5077\n",
              "4  SP    SAO JOSE DOS CAMPOS    729737.0  ...   101.0    90.0         1.5077\n",
              "\n",
              "[5 rows x 8 columns]"
            ]
          },
          "metadata": {
            "tags": []
          },
          "execution_count": 908
        }
      ]
    },
    {
      "cell_type": "code",
      "metadata": {
        "id": "YeTHFlquy5El"
      },
      "source": [
        "# Com as informações já tratadas e ponrtas para uso, agora é o momento de fazer os cálculos\n",
        "# Primeiramente, declara-se a função contendo a fórmula do nível de bancarização\n",
        "def bancarizacao(pop: np.float64, agencias: np.float64, pa: np.float64, pae: np.float64) -> float:\n",
        "  nb = float((agencias + pa + pae) / pop)\n",
        "  return nb"
      ],
      "execution_count": 909,
      "outputs": []
    },
    {
      "cell_type": "code",
      "metadata": {
        "id": "Pr7f2kuE3CHc"
      },
      "source": [
        "# Em seguida, define-se a função que retorna o coeficiente de ajusta populacional\n",
        "def coef_pop(pop: np.float64) -> int:\n",
        "  if 0 < pop <= 5_000:\n",
        "    return 5\n",
        "  elif 5_000 < pop <= 20_000:\n",
        "    return 10\n",
        "  elif 20_000 < pop <= 100_000:\n",
        "    return 15\n",
        "  elif 100_000 < pop <= 500_000:\n",
        "    return 20\n",
        "  elif pop > 500_000:\n",
        "    return 25\n",
        "  else:\n",
        "    return None"
      ],
      "execution_count": 910,
      "outputs": []
    },
    {
      "cell_type": "code",
      "metadata": {
        "id": "AaHtXqm409yM"
      },
      "source": [
        "# Por fim, define-se a função que calcula a probabilidade conversao\n",
        "def prob_conversao(idhm: np.float64, cp: int, teledensidade: np.float64) -> int:\n",
        "  pc = (idhm**cp)*(teledensidade/1.5)*100\n",
        "  return pc"
      ],
      "execution_count": 911,
      "outputs": []
    },
    {
      "cell_type": "code",
      "metadata": {
        "id": "YlU5kofV5D1F"
      },
      "source": [
        "# Então, são feitos os cálculos\n",
        "# Primeiramente, calcula-se o nível de bancarização\n",
        "\n",
        "# Cria-se uma lista par guardar os valores\n",
        "rows_bancarizacao = list()\n",
        "\n",
        "# Loop para percorrer todas as linhas do DataFrame\n",
        "for row in range(len(df_bancarizacao)):\n",
        "\n",
        "  # Salva as informações de cada município nas variáveis\n",
        "  pop = df_bancarizacao.at[row, \"População\"]\n",
        "  agencias = df_bancarizacao.at[row, \"Agências\"]\n",
        "  pa = df_bancarizacao.at[row, \"PA\"]\n",
        "  pae = df_bancarizacao.at[row, \"PAE\"]\n",
        "\n",
        "  # Calcula por meio da função bancarização\n",
        "  nb = bancarizacao(pop, agencias, pa, pae)\n",
        "\n",
        "  # Adiciona o valor ao vetor\n",
        "  rows_bancarizacao.append(nb)\n",
        "\n",
        "# Adiciona o vetor como uma nova coluna\n",
        "df_bancarizacao[\"Bancarização\"] = rows_bancarizacao"
      ],
      "execution_count": 912,
      "outputs": []
    },
    {
      "cell_type": "code",
      "metadata": {
        "id": "koWXt4Cg4cL8"
      },
      "source": [
        "# Em seguida, calcula-se o coeficiente de ajuste populacional de cada município\n",
        "df_bancarizacao[\"Ajuste Populacional\"] = [coef_pop(pop_atual) for pop_atual in df_bancarizacao[\"População\"]]"
      ],
      "execution_count": 913,
      "outputs": []
    },
    {
      "cell_type": "code",
      "metadata": {
        "id": "GTAyN_Ad4_UD"
      },
      "source": [
        "# Calcula-se a estimativa de clientes convertidos\n",
        "# Cria-se uma lista para salvar os valores\n",
        "estimativa_conversao = list()\n",
        "\n",
        "# Um loop percorre as linhas do DataFrame\n",
        "for row in range(len(df_bancarizacao)):\n",
        "  idhm = df_bancarizacao.at[row, \"IDHM\"]\n",
        "  cp = df_bancarizacao.at[row, \"Ajuste Populacional\"]\n",
        "  teledensidade = df_bancarizacao.at[row, \"Teledensidade\"]\n",
        "  pc = prob_conversao(idhm, cp, teledensidade)\n",
        "  estimativa_conversao.append(pc)\n",
        "\n",
        "df_bancarizacao[\"Estimativa Conversão\"] = [f\"{str(round(item, 2))}%\" for item in estimativa_conversao]"
      ],
      "execution_count": 914,
      "outputs": []
    },
    {
      "cell_type": "code",
      "metadata": {
        "id": "HSQ_QKqkDUdh"
      },
      "source": [
        "# Por fim, calcula-se quantos clientes se convertem com base na estimativa, seguindo a mesma lógica\n",
        "clientes_convertidos = list()\n",
        "\n",
        "for row in range(len(df_bancarizacao)):\n",
        "  pop = df_bancarizacao.at[row, \"População\"]\n",
        "  estimativa = float(df_bancarizacao.at[row, \"Estimativa Conversão\"].replace(\"%\", \"\"))\n",
        "  cc = floor((pop*estimativa)/100)\n",
        "  clientes_convertidos.append(cc)\n",
        "\n",
        "df_bancarizacao[\"Clientes Convertidos\"] = clientes_convertidos"
      ],
      "execution_count": 915,
      "outputs": []
    },
    {
      "cell_type": "code",
      "metadata": {
        "id": "9lrPuW3sJ-xm"
      },
      "source": [
        "# Organiza o DataFrame em ordem crescente de acordo com o nível de bancarização\n",
        "df_bancarizacao = df_bancarizacao.sort_values(\"Bancarização\")\n",
        "df_bancarizacao = df_bancarizacao.reset_index()\n",
        "df_bancarizacao = df_bancarizacao.drop(columns=[\"index\"])"
      ],
      "execution_count": 916,
      "outputs": []
    },
    {
      "cell_type": "code",
      "metadata": {
        "colab": {
          "base_uri": "https://localhost:8080/",
          "height": 195
        },
        "id": "XuUbi-ZC-nXv",
        "outputId": "e3a80739-9aa0-494c-c96d-007658cd0a7e"
      },
      "source": [
        "# Mostra os 5 municípios mais desbancarizados do Brasil, juntamente com todas as suas informações\n",
        "df_bancarizacao.head()"
      ],
      "execution_count": 917,
      "outputs": [
        {
          "output_type": "execute_result",
          "data": {
            "text/html": [
              "<div>\n",
              "<style scoped>\n",
              "    .dataframe tbody tr th:only-of-type {\n",
              "        vertical-align: middle;\n",
              "    }\n",
              "\n",
              "    .dataframe tbody tr th {\n",
              "        vertical-align: top;\n",
              "    }\n",
              "\n",
              "    .dataframe thead th {\n",
              "        text-align: right;\n",
              "    }\n",
              "</style>\n",
              "<table border=\"1\" class=\"dataframe\">\n",
              "  <thead>\n",
              "    <tr style=\"text-align: right;\">\n",
              "      <th></th>\n",
              "      <th>UF</th>\n",
              "      <th>Município</th>\n",
              "      <th>População</th>\n",
              "      <th>IDHM</th>\n",
              "      <th>Agências</th>\n",
              "      <th>PA</th>\n",
              "      <th>PAE</th>\n",
              "      <th>Teledensidade</th>\n",
              "      <th>Bancarização</th>\n",
              "      <th>Ajuste Populacional</th>\n",
              "      <th>Estimativa Conversão</th>\n",
              "      <th>Clientes Convertidos</th>\n",
              "    </tr>\n",
              "  </thead>\n",
              "  <tbody>\n",
              "    <tr>\n",
              "      <th>0</th>\n",
              "      <td>AM</td>\n",
              "      <td>NOVO ARIPUANA</td>\n",
              "      <td>26046.0</td>\n",
              "      <td>0.554</td>\n",
              "      <td>1.0</td>\n",
              "      <td>0.0</td>\n",
              "      <td>0.0</td>\n",
              "      <td>0.9254</td>\n",
              "      <td>0.000038</td>\n",
              "      <td>15</td>\n",
              "      <td>0.01%</td>\n",
              "      <td>2</td>\n",
              "    </tr>\n",
              "    <tr>\n",
              "      <th>1</th>\n",
              "      <td>AM</td>\n",
              "      <td>NOVO AIRAO</td>\n",
              "      <td>19928.0</td>\n",
              "      <td>0.570</td>\n",
              "      <td>1.0</td>\n",
              "      <td>0.0</td>\n",
              "      <td>0.0</td>\n",
              "      <td>0.9254</td>\n",
              "      <td>0.000050</td>\n",
              "      <td>10</td>\n",
              "      <td>0.22%</td>\n",
              "      <td>43</td>\n",
              "    </tr>\n",
              "    <tr>\n",
              "      <th>2</th>\n",
              "      <td>AM</td>\n",
              "      <td>NOVA OLINDA DO NORTE</td>\n",
              "      <td>38026.0</td>\n",
              "      <td>0.558</td>\n",
              "      <td>1.0</td>\n",
              "      <td>0.0</td>\n",
              "      <td>1.0</td>\n",
              "      <td>0.9254</td>\n",
              "      <td>0.000053</td>\n",
              "      <td>15</td>\n",
              "      <td>0.01%</td>\n",
              "      <td>3</td>\n",
              "    </tr>\n",
              "    <tr>\n",
              "      <th>3</th>\n",
              "      <td>MA</td>\n",
              "      <td>TURIACU</td>\n",
              "      <td>35709.0</td>\n",
              "      <td>0.561</td>\n",
              "      <td>1.0</td>\n",
              "      <td>0.0</td>\n",
              "      <td>1.0</td>\n",
              "      <td>0.8365</td>\n",
              "      <td>0.000056</td>\n",
              "      <td>15</td>\n",
              "      <td>0.01%</td>\n",
              "      <td>3</td>\n",
              "    </tr>\n",
              "    <tr>\n",
              "      <th>4</th>\n",
              "      <td>BA</td>\n",
              "      <td>APORA</td>\n",
              "      <td>17788.0</td>\n",
              "      <td>0.548</td>\n",
              "      <td>0.0</td>\n",
              "      <td>0.0</td>\n",
              "      <td>1.0</td>\n",
              "      <td>0.9246</td>\n",
              "      <td>0.000056</td>\n",
              "      <td>10</td>\n",
              "      <td>0.15%</td>\n",
              "      <td>26</td>\n",
              "    </tr>\n",
              "  </tbody>\n",
              "</table>\n",
              "</div>"
            ],
            "text/plain": [
              "   UF             Município  ...  Estimativa Conversão  Clientes Convertidos\n",
              "0  AM         NOVO ARIPUANA  ...                 0.01%                     2\n",
              "1  AM            NOVO AIRAO  ...                 0.22%                    43\n",
              "2  AM  NOVA OLINDA DO NORTE  ...                 0.01%                     3\n",
              "3  MA               TURIACU  ...                 0.01%                     3\n",
              "4  BA                 APORA  ...                 0.15%                    26\n",
              "\n",
              "[5 rows x 12 columns]"
            ]
          },
          "metadata": {
            "tags": []
          },
          "execution_count": 917
        }
      ]
    },
    {
      "cell_type": "code",
      "metadata": {
        "id": "8hk-BowSMmio"
      },
      "source": [
        "# Para listar as cidades necessárias para alcançar, cria-se um novo DataFrame com base em um contador, inicializado em 0\n",
        "contador_clientes = 0\n",
        "\n",
        "# Contador para controlar as linhas de df_bancarizacao\n",
        "contador_rows = 0\n",
        "\n",
        "# Lista que salvará os municípios de interesse\n",
        "municipios_interesse = list()\n",
        "\n",
        "# Lista com as colunas do DataFrame final\n",
        "colunas = [\"Município\", \"UF\", \"População\", \"Nível de Bancarização\", \"Cliente Convertidos\"]\n",
        "\n",
        "# Enquanto o contador é menor que 1000, o loop continua\n",
        "# Como o contador será incrementado a cada município novo adicionado, teremos as cidades de interesse\n",
        "while contador_clientes < 1000:\n",
        "  municipio_atual = [\n",
        "                     df_bancarizacao.at[contador_rows, \"Município\"],\n",
        "                     df_bancarizacao.at[contador_rows, \"UF\"],\n",
        "                     df_bancarizacao.at[contador_rows, \"População\"],\n",
        "                     df_bancarizacao.at[contador_rows, \"Bancarização\"],\n",
        "                     df_bancarizacao.at[contador_rows, \"Clientes Convertidos\"]\n",
        "                     ]\n",
        "  municipios_interesse.append(municipio_atual)\n",
        "\n",
        "  # Soma a quantidade de clientes convertidos do município atual\n",
        "  contador_clientes += df_bancarizacao.at[contador_rows, \"Clientes Convertidos\"]\n",
        "  \n",
        "  # Incrementa o contador\n",
        "  contador_rows += 1\n",
        "\n",
        "# Cria um novo DataFrame para salvar os municípios que se encaixam na proposta apresentada\n",
        "df_municipios_interesse = pd.DataFrame(data=municipios_interesse, columns=colunas)"
      ],
      "execution_count": 918,
      "outputs": []
    },
    {
      "cell_type": "code",
      "metadata": {
        "colab": {
          "base_uri": "https://localhost:8080/",
          "height": 965
        },
        "id": "1SI8RdlLQX9L",
        "outputId": "ba2ca4ac-06b1-4d6a-e7eb-83f9d99ac227"
      },
      "source": [
        "# Mostra as cidades de interesse, com um total de 1094 clientes convertidos\n",
        "df_municipios_interesse"
      ],
      "execution_count": 919,
      "outputs": [
        {
          "output_type": "execute_result",
          "data": {
            "text/html": [
              "<div>\n",
              "<style scoped>\n",
              "    .dataframe tbody tr th:only-of-type {\n",
              "        vertical-align: middle;\n",
              "    }\n",
              "\n",
              "    .dataframe tbody tr th {\n",
              "        vertical-align: top;\n",
              "    }\n",
              "\n",
              "    .dataframe thead th {\n",
              "        text-align: right;\n",
              "    }\n",
              "</style>\n",
              "<table border=\"1\" class=\"dataframe\">\n",
              "  <thead>\n",
              "    <tr style=\"text-align: right;\">\n",
              "      <th></th>\n",
              "      <th>Município</th>\n",
              "      <th>UF</th>\n",
              "      <th>População</th>\n",
              "      <th>Nível de Bancarização</th>\n",
              "      <th>Cliente Convertidos</th>\n",
              "    </tr>\n",
              "  </thead>\n",
              "  <tbody>\n",
              "    <tr>\n",
              "      <th>0</th>\n",
              "      <td>NOVO ARIPUANA</td>\n",
              "      <td>AM</td>\n",
              "      <td>26046.0</td>\n",
              "      <td>0.000038</td>\n",
              "      <td>2</td>\n",
              "    </tr>\n",
              "    <tr>\n",
              "      <th>1</th>\n",
              "      <td>NOVO AIRAO</td>\n",
              "      <td>AM</td>\n",
              "      <td>19928.0</td>\n",
              "      <td>0.000050</td>\n",
              "      <td>43</td>\n",
              "    </tr>\n",
              "    <tr>\n",
              "      <th>2</th>\n",
              "      <td>NOVA OLINDA DO NORTE</td>\n",
              "      <td>AM</td>\n",
              "      <td>38026.0</td>\n",
              "      <td>0.000053</td>\n",
              "      <td>3</td>\n",
              "    </tr>\n",
              "    <tr>\n",
              "      <th>3</th>\n",
              "      <td>TURIACU</td>\n",
              "      <td>MA</td>\n",
              "      <td>35709.0</td>\n",
              "      <td>0.000056</td>\n",
              "      <td>3</td>\n",
              "    </tr>\n",
              "    <tr>\n",
              "      <th>4</th>\n",
              "      <td>APORA</td>\n",
              "      <td>BA</td>\n",
              "      <td>17788.0</td>\n",
              "      <td>0.000056</td>\n",
              "      <td>26</td>\n",
              "    </tr>\n",
              "    <tr>\n",
              "      <th>5</th>\n",
              "      <td>PILAO ARCADO</td>\n",
              "      <td>BA</td>\n",
              "      <td>35175.0</td>\n",
              "      <td>0.000057</td>\n",
              "      <td>0</td>\n",
              "    </tr>\n",
              "    <tr>\n",
              "      <th>6</th>\n",
              "      <td>CAUCAIA</td>\n",
              "      <td>CE</td>\n",
              "      <td>365212.0</td>\n",
              "      <td>0.000058</td>\n",
              "      <td>109</td>\n",
              "    </tr>\n",
              "    <tr>\n",
              "      <th>7</th>\n",
              "      <td>SALITRE</td>\n",
              "      <td>CE</td>\n",
              "      <td>16635.0</td>\n",
              "      <td>0.000060</td>\n",
              "      <td>23</td>\n",
              "    </tr>\n",
              "    <tr>\n",
              "      <th>8</th>\n",
              "      <td>MANAQUIRI</td>\n",
              "      <td>AM</td>\n",
              "      <td>33049.0</td>\n",
              "      <td>0.000061</td>\n",
              "      <td>9</td>\n",
              "    </tr>\n",
              "    <tr>\n",
              "      <th>9</th>\n",
              "      <td>SAO FELIX DO XINGU</td>\n",
              "      <td>PA</td>\n",
              "      <td>132138.0</td>\n",
              "      <td>0.000061</td>\n",
              "      <td>0</td>\n",
              "    </tr>\n",
              "    <tr>\n",
              "      <th>10</th>\n",
              "      <td>ARAME</td>\n",
              "      <td>MA</td>\n",
              "      <td>32764.0</td>\n",
              "      <td>0.000061</td>\n",
              "      <td>0</td>\n",
              "    </tr>\n",
              "    <tr>\n",
              "      <th>11</th>\n",
              "      <td>BARREIRINHA</td>\n",
              "      <td>AM</td>\n",
              "      <td>32483.0</td>\n",
              "      <td>0.000062</td>\n",
              "      <td>3</td>\n",
              "    </tr>\n",
              "    <tr>\n",
              "      <th>12</th>\n",
              "      <td>ALTO ALEGRE DO PINDARE</td>\n",
              "      <td>MA</td>\n",
              "      <td>31943.0</td>\n",
              "      <td>0.000063</td>\n",
              "      <td>3</td>\n",
              "    </tr>\n",
              "    <tr>\n",
              "      <th>13</th>\n",
              "      <td>PORTEL</td>\n",
              "      <td>PA</td>\n",
              "      <td>62945.0</td>\n",
              "      <td>0.000064</td>\n",
              "      <td>0</td>\n",
              "    </tr>\n",
              "    <tr>\n",
              "      <th>14</th>\n",
              "      <td>BAGRE</td>\n",
              "      <td>PA</td>\n",
              "      <td>31325.0</td>\n",
              "      <td>0.000064</td>\n",
              "      <td>0</td>\n",
              "    </tr>\n",
              "    <tr>\n",
              "      <th>15</th>\n",
              "      <td>RAPOSA</td>\n",
              "      <td>MA</td>\n",
              "      <td>31177.0</td>\n",
              "      <td>0.000064</td>\n",
              "      <td>15</td>\n",
              "    </tr>\n",
              "    <tr>\n",
              "      <th>16</th>\n",
              "      <td>AGUAS LINDAS DE GOIAS</td>\n",
              "      <td>GO</td>\n",
              "      <td>217698.0</td>\n",
              "      <td>0.000064</td>\n",
              "      <td>87</td>\n",
              "    </tr>\n",
              "    <tr>\n",
              "      <th>17</th>\n",
              "      <td>CAREIRO DA VARZEA</td>\n",
              "      <td>AM</td>\n",
              "      <td>30846.0</td>\n",
              "      <td>0.000065</td>\n",
              "      <td>3</td>\n",
              "    </tr>\n",
              "    <tr>\n",
              "      <th>18</th>\n",
              "      <td>VICOSA DO CEARA</td>\n",
              "      <td>CE</td>\n",
              "      <td>61410.0</td>\n",
              "      <td>0.000065</td>\n",
              "      <td>12</td>\n",
              "    </tr>\n",
              "    <tr>\n",
              "      <th>19</th>\n",
              "      <td>IPIXUNA</td>\n",
              "      <td>AM</td>\n",
              "      <td>30436.0</td>\n",
              "      <td>0.000066</td>\n",
              "      <td>0</td>\n",
              "    </tr>\n",
              "    <tr>\n",
              "      <th>20</th>\n",
              "      <td>MONTE ALEGRE DE SERGIPE</td>\n",
              "      <td>SE</td>\n",
              "      <td>15175.0</td>\n",
              "      <td>0.000066</td>\n",
              "      <td>25</td>\n",
              "    </tr>\n",
              "    <tr>\n",
              "      <th>21</th>\n",
              "      <td>SAO JOSE DE RIBAMAR</td>\n",
              "      <td>MA</td>\n",
              "      <td>179028.0</td>\n",
              "      <td>0.000067</td>\n",
              "      <td>107</td>\n",
              "    </tr>\n",
              "    <tr>\n",
              "      <th>22</th>\n",
              "      <td>BELFORD ROXO</td>\n",
              "      <td>RJ</td>\n",
              "      <td>513118.0</td>\n",
              "      <td>0.000068</td>\n",
              "      <td>51</td>\n",
              "    </tr>\n",
              "    <tr>\n",
              "      <th>23</th>\n",
              "      <td>CIDADE OCIDENTAL</td>\n",
              "      <td>GO</td>\n",
              "      <td>72890.0</td>\n",
              "      <td>0.000069</td>\n",
              "      <td>364</td>\n",
              "    </tr>\n",
              "    <tr>\n",
              "      <th>24</th>\n",
              "      <td>PEDRA BRANCA</td>\n",
              "      <td>CE</td>\n",
              "      <td>43309.0</td>\n",
              "      <td>0.000069</td>\n",
              "      <td>12</td>\n",
              "    </tr>\n",
              "    <tr>\n",
              "      <th>25</th>\n",
              "      <td>ANAPU</td>\n",
              "      <td>PA</td>\n",
              "      <td>28607.0</td>\n",
              "      <td>0.000070</td>\n",
              "      <td>2</td>\n",
              "    </tr>\n",
              "    <tr>\n",
              "      <th>26</th>\n",
              "      <td>TIMON</td>\n",
              "      <td>MA</td>\n",
              "      <td>170222.0</td>\n",
              "      <td>0.000070</td>\n",
              "      <td>17</td>\n",
              "    </tr>\n",
              "    <tr>\n",
              "      <th>27</th>\n",
              "      <td>OLINDINA</td>\n",
              "      <td>BA</td>\n",
              "      <td>28304.0</td>\n",
              "      <td>0.000071</td>\n",
              "      <td>2</td>\n",
              "    </tr>\n",
              "    <tr>\n",
              "      <th>28</th>\n",
              "      <td>ALTO ALEGRE DO MARANHAO</td>\n",
              "      <td>MA</td>\n",
              "      <td>27858.0</td>\n",
              "      <td>0.000072</td>\n",
              "      <td>2</td>\n",
              "    </tr>\n",
              "    <tr>\n",
              "      <th>29</th>\n",
              "      <td>TRACUNHAEM</td>\n",
              "      <td>PE</td>\n",
              "      <td>13813.0</td>\n",
              "      <td>0.000072</td>\n",
              "      <td>60</td>\n",
              "    </tr>\n",
              "    <tr>\n",
              "      <th>30</th>\n",
              "      <td>PACO DO LUMIAR</td>\n",
              "      <td>MA</td>\n",
              "      <td>123747.0</td>\n",
              "      <td>0.000073</td>\n",
              "      <td>111</td>\n",
              "    </tr>\n",
              "  </tbody>\n",
              "</table>\n",
              "</div>"
            ],
            "text/plain": [
              "                  Município  UF  ...  Nível de Bancarização  Cliente Convertidos\n",
              "0             NOVO ARIPUANA  AM  ...               0.000038                    2\n",
              "1                NOVO AIRAO  AM  ...               0.000050                   43\n",
              "2      NOVA OLINDA DO NORTE  AM  ...               0.000053                    3\n",
              "3                   TURIACU  MA  ...               0.000056                    3\n",
              "4                     APORA  BA  ...               0.000056                   26\n",
              "5              PILAO ARCADO  BA  ...               0.000057                    0\n",
              "6                   CAUCAIA  CE  ...               0.000058                  109\n",
              "7                   SALITRE  CE  ...               0.000060                   23\n",
              "8                 MANAQUIRI  AM  ...               0.000061                    9\n",
              "9        SAO FELIX DO XINGU  PA  ...               0.000061                    0\n",
              "10                    ARAME  MA  ...               0.000061                    0\n",
              "11              BARREIRINHA  AM  ...               0.000062                    3\n",
              "12   ALTO ALEGRE DO PINDARE  MA  ...               0.000063                    3\n",
              "13                   PORTEL  PA  ...               0.000064                    0\n",
              "14                    BAGRE  PA  ...               0.000064                    0\n",
              "15                   RAPOSA  MA  ...               0.000064                   15\n",
              "16    AGUAS LINDAS DE GOIAS  GO  ...               0.000064                   87\n",
              "17        CAREIRO DA VARZEA  AM  ...               0.000065                    3\n",
              "18          VICOSA DO CEARA  CE  ...               0.000065                   12\n",
              "19                  IPIXUNA  AM  ...               0.000066                    0\n",
              "20  MONTE ALEGRE DE SERGIPE  SE  ...               0.000066                   25\n",
              "21      SAO JOSE DE RIBAMAR  MA  ...               0.000067                  107\n",
              "22             BELFORD ROXO  RJ  ...               0.000068                   51\n",
              "23         CIDADE OCIDENTAL  GO  ...               0.000069                  364\n",
              "24             PEDRA BRANCA  CE  ...               0.000069                   12\n",
              "25                    ANAPU  PA  ...               0.000070                    2\n",
              "26                    TIMON  MA  ...               0.000070                   17\n",
              "27                 OLINDINA  BA  ...               0.000071                    2\n",
              "28  ALTO ALEGRE DO MARANHAO  MA  ...               0.000072                    2\n",
              "29               TRACUNHAEM  PE  ...               0.000072                   60\n",
              "30           PACO DO LUMIAR  MA  ...               0.000073                  111\n",
              "\n",
              "[31 rows x 5 columns]"
            ]
          },
          "metadata": {
            "tags": []
          },
          "execution_count": 919
        }
      ]
    },
    {
      "cell_type": "code",
      "metadata": {
        "id": "OOo_DZfDQ329"
      },
      "source": [
        "# Cria um arquivo .xlsx com o DataFrame final\n",
        "df_municipios_interesse.to_excel(\"municipios_desbancarizacao.xlsx\")"
      ],
      "execution_count": 920,
      "outputs": []
    }
  ]
}